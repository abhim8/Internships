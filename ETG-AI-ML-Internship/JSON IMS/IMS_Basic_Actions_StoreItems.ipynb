{
  "nbformat": 4,
  "nbformat_minor": 0,
  "metadata": {
    "colab": {
      "name": "IMS_Basic_Actions_StoreItems.ipynb",
      "provenance": [],
      "collapsed_sections": []
    },
    "kernelspec": {
      "name": "python3",
      "display_name": "Python 3"
    },
    "language_info": {
      "name": "python"
    }
  },
  "cells": [
    {
      "cell_type": "markdown",
      "metadata": {
        "id": "hp4129d3rLVm"
      },
      "source": [
        "**Reading File**"
      ]
    },
    {
      "cell_type": "code",
      "metadata": {
        "id": "Cll36-wYq57d"
      },
      "source": [
        "import json\n",
        "\n",
        "fd = open(\"/content/items.json\",'r')\n",
        "r = fd.read()\n",
        "fd.close()\n",
        "\n",
        "records = json.loads(r)"
      ],
      "execution_count": null,
      "outputs": []
    },
    {
      "cell_type": "code",
      "metadata": {
        "colab": {
          "base_uri": "https://localhost:8080/"
        },
        "id": "fMgcjWwnq_mK",
        "outputId": "fdd35922-80bc-4984-e281-d41ff8365d5d"
      },
      "source": [
        "records"
      ],
      "execution_count": null,
      "outputs": [
        {
          "output_type": "execute_result",
          "data": {
            "text/plain": [
              "{'1001': {'name': 'Choco Cake', 'pr': 100, 'qn': 34},\n",
              " '1002': {'name': 'Milk Cake', 'pr': 800, 'qn': 100},\n",
              " '1003': {'name': 'Drink', 'pr': 85, 'qn': 100},\n",
              " '1004': {'name': 'Candy', 'pr': 5, 'qn': 1000},\n",
              " '1005': {'name': 'Pen', 'pr': 20, 'qn': 100},\n",
              " '1006': {'name': 'Phone', 'pr': 50000, 'qn': 10},\n",
              " '1007': {'name': 'Mic', 'pr': 1500, 'qn': 0},\n",
              " '1008': {'name': 'Case', 'pr': 599, 'qn': 5},\n",
              " '1009': {'name': 'Keyboard', 'pr': 1999, 'qn': 10},\n",
              " '1010': {'name': 'Laptop MAC', 'pr': 100000, 'qn': 100},\n",
              " '1011': {'name': 'Laptop LINUX', 'pr': 1000, 'qn': 10},\n",
              " '1012': {'name': 'Sugar', 'pr': 100, 'qn': 100},\n",
              " '1013': {'name': 'Salt', 'pr': 10, 'qn': 76},\n",
              " '1014': {'name': 'Dosa Batter', 'pr': 10, 'qn': 100},\n",
              " '1015': {'name': 'Charger', 'pr': 1000, 'qn': 101},\n",
              " '1016': {'name': 'Pendrive', 'pr': 1000, 'qn': 10},\n",
              " '1017': {'name': 'HardDisk', 'pr': 10000, 'qn': 1000},\n",
              " '1018': {'name': 'Router', 'pr': 1000, 'qn': 190},\n",
              " '1019': {'name': 'Dual-Band Router', 'pr': 10000, 'qn': 179},\n",
              " '1020': {'name': 'Water Bottle', 'pr': 1000, 'qn': 10},\n",
              " '1021': {'name': 'Apples', 'pr': 100, 'qn': 103},\n",
              " '1022': {'name': 'Oranges', 'pr': 100, 'qn': 10},\n",
              " '1023': {'name': 'Pomogrenates', 'pr': 100, 'qn': 110},\n",
              " '1024': {'name': 'Banana', 'pr': 10, 'qn': 1000},\n",
              " '1025': {'name': 'Bag', 'pr': 100, 'qn': 1000},\n",
              " '1026': {'name': 'Shirts', 'pr': 1000, 'qn': 10},\n",
              " '1027': {'name': 'Denims', 'pr': 1000, 'qn': 100},\n",
              " '1028': {'name': 'Tablets', 'pr': 100, 'qn': 100},\n",
              " '1029': {'name': 'WIFI-Dongle', 'pr': 1000, 'qn': 10},\n",
              " '1030': {'name': 'Clock', 'pr': 10, 'qn': 1},\n",
              " '1031': {'name': 'Watch', 'pr': 100, 'qn': 10},\n",
              " '1032': {'name': 'Earphones', 'pr': 100, 'qn': 19},\n",
              " '1033': {'name': 'Wireless HeadSet', 'pr': 1000, 'qn': 107},\n",
              " '1034': {'name': 'Xerox Machine', 'pr': 100000, 'qn': 10},\n",
              " '1035': {'name': 'Weighing Machine', 'pr': 1000, 'qn': 10}}"
            ]
          },
          "metadata": {},
          "execution_count": 15
        }
      ]
    },
    {
      "cell_type": "markdown",
      "metadata": {
        "id": "i5JaiovsrRI_"
      },
      "source": [
        "**Logic to Purchase items (or) Selling Items**"
      ]
    },
    {
      "cell_type": "code",
      "metadata": {
        "colab": {
          "base_uri": "https://localhost:8080/"
        },
        "id": "S-Wz0a8ZrA5Q",
        "outputId": "300716c1-f307-4711-85ce-feede5103b12"
      },
      "source": [
        "ui_prod  = str(input(\"Enter the product_Id: \"))\n",
        "ui_quant = int(input(\"Enter the quantity: \"))\n",
        "\n",
        "if (ui_prod in records.keys()):\n",
        "  print(\"Enter Details To pruchase\")\n",
        "  print(\"Product: \", records[ui_prod]['name'])\n",
        "  print(\"Price: \", records[ui_prod]['pr'])\n",
        "  print(\"Billing Amount: \", records[ui_prod]['pr'] * ui_quant)\n",
        "  \n",
        "  records[ui_prod]['qn'] = records[ui_prod]['qn'] - ui_quant\n",
        "else:\n",
        "  print(\"Sorry!! the Item isn't available\")\n"
      ],
      "execution_count": null,
      "outputs": [
        {
          "output_type": "stream",
          "name": "stdout",
          "text": [
            "Enter the product_Id: 1019\n",
            "Enter the quantity: 1\n",
            "Product:  Dual-Band Router\n",
            "Price:  10000\n",
            "Billing Amount:  10000\n"
          ]
        }
      ]
    },
    {
      "cell_type": "markdown",
      "metadata": {
        "id": "ngTnmq4urUsH"
      },
      "source": [
        "**Update List of items(after selling)**"
      ]
    },
    {
      "cell_type": "code",
      "metadata": {
        "id": "0UuZ7O4YrFh5"
      },
      "source": [
        "js = json.dumps(records)\n",
        "\n",
        "fd = open(\"record.json\",'w')\n",
        "fd.write(js)\n",
        "fd.close()"
      ],
      "execution_count": null,
      "outputs": []
    },
    {
      "cell_type": "markdown",
      "metadata": {
        "id": "_R9EP9wXrWn_"
      },
      "source": [
        "**Sales JSON**"
      ]
    },
    {
      "cell_type": "code",
      "metadata": {
        "id": "e9qLlA-rrHsa",
        "colab": {
          "base_uri": "https://localhost:8080/"
        },
        "outputId": "329ffc32-8939-4c69-b244-3230a6c26e59"
      },
      "source": [
        "{'prod' : ui_prod, 'qn' : ui_quant, 'amount': records[ui_prod]['pr'] * ui_quant}"
      ],
      "execution_count": null,
      "outputs": [
        {
          "output_type": "execute_result",
          "data": {
            "text/plain": [
              "{'amount': 10000, 'prod': '1019', 'qn': 1}"
            ]
          },
          "metadata": {},
          "execution_count": 9
        }
      ]
    },
    {
      "cell_type": "code",
      "metadata": {
        "id": "m2pFyR6yrdHh"
      },
      "source": [
        "sales = {1 : {'prod' : ui_prod, 'qn' : ui_quant, 'amount': records[ui_prod]['pr'] * ui_quant},\n",
        "         2 : {'prod' : ui_prod, 'qn' : ui_quant, 'amount': records[ui_prod]['pr'] * ui_quant},\n",
        "         3 : {'prod' : ui_prod, 'qn' : ui_quant, 'amount': records[ui_prod]['pr'] * ui_quant}}"
      ],
      "execution_count": null,
      "outputs": []
    },
    {
      "cell_type": "code",
      "metadata": {
        "id": "MKpb3bt_rfEK"
      },
      "source": [
        "sale = json.dumps(sales)"
      ],
      "execution_count": null,
      "outputs": []
    },
    {
      "cell_type": "markdown",
      "metadata": {
        "id": "SQaxI8UvWLOd"
      },
      "source": [
        "**Adding New Items to the Existing List**"
      ]
    },
    {
      "cell_type": "code",
      "metadata": {
        "colab": {
          "base_uri": "https://localhost:8080/"
        },
        "id": "yIB9DoVcWJuQ",
        "outputId": "c732f523-4afa-4154-d274-5bacf19e5a68"
      },
      "source": [
        "fd = open(\"/content/items.json\",'r')\n",
        "r = fd.read()\n",
        "fd.close()\n",
        "records = json.loads(r)\n",
        "\n",
        "\n",
        "prod_id = str(input(\"Enter product id:\"))\n",
        "if (prod_id in records.keys()):\n",
        "  print(\"Item already exists\")\n",
        "else:\n",
        "  print(\"Enter Remaining Details: \")\n",
        "  name = str(input(\"Enter name:\"))\n",
        "  pr = int(input(\"Enter price:\"))\n",
        "  qn = int(input(\"Enter quantity:\"))\n",
        "  records[prod_id] = {'name': name, 'pr': pr, 'qn': qn}\n",
        "  js = json.dumps(records)\n",
        "  fd = open(\"/content/items.json\",'w')\n",
        "  fd.write(js)\n",
        "  fd.close()\n"
      ],
      "execution_count": null,
      "outputs": [
        {
          "name": "stdout",
          "output_type": "stream",
          "text": [
            "Enter product id:1036\n",
            "Enter name:newone\n",
            "Enter price:100\n",
            "Enter quantity:18\n"
          ]
        }
      ]
    },
    {
      "cell_type": "markdown",
      "metadata": {
        "id": "Kf9BxTrli3BM"
      },
      "source": [
        "**Getting complete list of items avaiable in store**"
      ]
    },
    {
      "cell_type": "code",
      "metadata": {
        "colab": {
          "base_uri": "https://localhost:8080/"
        },
        "id": "jwvo0yvjXY8D",
        "outputId": "7f360253-cc22-409c-f89a-cc8334c27e3a"
      },
      "source": [
        "records"
      ],
      "execution_count": null,
      "outputs": [
        {
          "output_type": "execute_result",
          "data": {
            "text/plain": [
              "{'1001': {'name': 'Choco Cake', 'pr': 100, 'qn': 34},\n",
              " '1002': {'name': 'Milk Cake', 'pr': 800, 'qn': 100},\n",
              " '1003': {'name': 'Drink', 'pr': 85, 'qn': 100},\n",
              " '1004': {'name': 'Candy', 'pr': 5, 'qn': 1000},\n",
              " '1005': {'name': 'Pen', 'pr': 20, 'qn': 100},\n",
              " '1006': {'name': 'Phone', 'pr': 50000, 'qn': 10},\n",
              " '1007': {'name': 'Mic', 'pr': 1500, 'qn': 0},\n",
              " '1008': {'name': 'Case', 'pr': 599, 'qn': 5},\n",
              " '1009': {'name': 'Keyboard', 'pr': 1999, 'qn': 10},\n",
              " '1010': {'name': 'Laptop MAC', 'pr': 100000, 'qn': 100},\n",
              " '1011': {'name': 'Laptop LINUX', 'pr': 1000, 'qn': 10},\n",
              " '1012': {'name': 'Sugar', 'pr': 100, 'qn': 100},\n",
              " '1013': {'name': 'Salt', 'pr': 10, 'qn': 76},\n",
              " '1014': {'name': 'Dosa Batter', 'pr': 10, 'qn': 100},\n",
              " '1015': {'name': 'Charger', 'pr': 1000, 'qn': 101},\n",
              " '1016': {'name': 'Pendrive', 'pr': 1000, 'qn': 10},\n",
              " '1017': {'name': 'HardDisk', 'pr': 10000, 'qn': 1000},\n",
              " '1018': {'name': 'Router', 'pr': 1000, 'qn': 190},\n",
              " '1019': {'name': 'Dual-Band Router', 'pr': 10000, 'qn': 180},\n",
              " '1020': {'name': 'Water Bottle', 'pr': 1000, 'qn': 10},\n",
              " '1021': {'name': 'Apples', 'pr': 100, 'qn': 103},\n",
              " '1022': {'name': 'Oranges', 'pr': 100, 'qn': 10},\n",
              " '1023': {'name': 'Pomogrenates', 'pr': 100, 'qn': 110},\n",
              " '1024': {'name': 'Banana', 'pr': 10, 'qn': 1000},\n",
              " '1025': {'name': 'Bag', 'pr': 100, 'qn': 1000},\n",
              " '1026': {'name': 'Shirts', 'pr': 1000, 'qn': 10},\n",
              " '1027': {'name': 'Denims', 'pr': 1000, 'qn': 100},\n",
              " '1028': {'name': 'Tablets', 'pr': 100, 'qn': 100},\n",
              " '1029': {'name': 'WIFI-Dongle', 'pr': 1000, 'qn': 10},\n",
              " '1030': {'name': 'Clock', 'pr': 10, 'qn': 1},\n",
              " '1031': {'name': 'Watch', 'pr': 100, 'qn': 10},\n",
              " '1032': {'name': 'Earphones', 'pr': 100, 'qn': 19},\n",
              " '1033': {'name': 'Wireless HeadSet', 'pr': 1000, 'qn': 107},\n",
              " '1034': {'name': 'Xerox Machine', 'pr': 100000, 'qn': 10},\n",
              " '1035': {'name': 'Weighing Machine', 'pr': 1000, 'qn': 10},\n",
              " '1036': {'name': 'newone', 'pr': 100, 'qn': 18}}"
            ]
          },
          "metadata": {},
          "execution_count": 23
        }
      ]
    },
    {
      "cell_type": "markdown",
      "metadata": {
        "id": "hojybIOgXo_7"
      },
      "source": [
        "**Deleting an Item from list**"
      ]
    },
    {
      "cell_type": "code",
      "metadata": {
        "id": "SYH5fWxKXn_3"
      },
      "source": [
        "# del records['1036']\n",
        "# or\n",
        "dct = json.loads(records)\n",
        "ui_prod = 1036\n",
        "if (ui_prod in dct.keys()):\n",
        "  del records[ui_prod]\n",
        "  print(\"Item deleted\")\n",
        "else:\n",
        "  print(\"No item exists\")\n"
      ],
      "execution_count": null,
      "outputs": []
    },
    {
      "cell_type": "markdown",
      "metadata": {
        "id": "rS5td8NmkT3y"
      },
      "source": [
        "**Getting the total sum/cost of all the items in the store**"
      ]
    },
    {
      "cell_type": "code",
      "metadata": {
        "colab": {
          "base_uri": "https://localhost:8080/"
        },
        "id": "ud8KSrcYjydq",
        "outputId": "25f4aa73-6d8f-4314-ef22-545681a04410"
      },
      "source": [
        "sum = 0\n",
        "for item in records:\n",
        "  sum = sum + records[item]['pr']\n",
        "\n",
        "print('The total cost of items available is '+ str(sum)+'$')\n"
      ],
      "execution_count": null,
      "outputs": [
        {
          "output_type": "stream",
          "name": "stdout",
          "text": [
            "The total sum is 285948$\n"
          ]
        }
      ]
    },
    {
      "cell_type": "markdown",
      "metadata": {
        "id": "StSiQKzymUm3"
      },
      "source": [
        "**Searching for a specific item in store**"
      ]
    },
    {
      "cell_type": "code",
      "metadata": {
        "colab": {
          "base_uri": "https://localhost:8080/"
        },
        "id": "HM5OOLETlfIH",
        "outputId": "25b02c71-86ba-471c-efb7-3b9f6035dde0"
      },
      "source": [
        "prod_id = str(input(\"Enter product id to search:\"))\n",
        "\n",
        "if (prod_id in records.keys()):\n",
        "  print(\"Yes, the Item is available\")\n",
        "else:\n",
        "  print(\"Sorry, the Item isn't available.\\n We will get the new stock soon..\")"
      ],
      "execution_count": null,
      "outputs": [
        {
          "output_type": "stream",
          "name": "stdout",
          "text": [
            "Enter product id to search:1076\n",
            "Sorry, the Item isn't available.\n",
            " We will get the new stock soon..\n"
          ]
        }
      ]
    }
  ]
}