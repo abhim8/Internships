{
  "nbformat": 4,
  "nbformat_minor": 0,
  "metadata": {
    "colab": {
      "name": "IMS_Employees.ipynb",
      "provenance": [],
      "collapsed_sections": []
    },
    "kernelspec": {
      "name": "python3",
      "display_name": "Python 3"
    },
    "language_info": {
      "name": "python"
    }
  },
  "cells": [
    {
      "cell_type": "markdown",
      "metadata": {
        "id": "_Cq1jeanxFGN"
      },
      "source": [
        "**Reading the List of employees**"
      ]
    },
    {
      "cell_type": "code",
      "metadata": {
        "id": "vGziMyqrw9hG"
      },
      "source": [
        "import json\n",
        "\n",
        "fd = open(\"/content/employees.json\",'r')\n",
        "r = fd.read()\n",
        "fd.close()\n",
        "\n",
        "staff = json.loads(r)"
      ],
      "execution_count": 10,
      "outputs": []
    },
    {
      "cell_type": "markdown",
      "metadata": {
        "id": "HukC9jFIzoW2"
      },
      "source": [
        "**Getting complete list of employees in store**"
      ]
    },
    {
      "cell_type": "code",
      "metadata": {
        "colab": {
          "base_uri": "https://localhost:8080/"
        },
        "id": "WHrcLZqsxpqU",
        "outputId": "d4c65894-74ad-49a5-b88c-4eae1f561afc"
      },
      "source": [
        "staff"
      ],
      "execution_count": 26,
      "outputs": [
        {
          "output_type": "execute_result",
          "data": {
            "text/plain": [
              "{'10009': {'ename': 'worker10', 'sal': 1385},\n",
              " '11010': {'ename': 'cleaner-vinnu', 'sal': 2562},\n",
              " '12011': {'ename': 'suri', 'sal': 7384},\n",
              " '200': {'name': 'newone', 'sal': 984},\n",
              " '2001': {'ename': 'Abhilash-Me', 'sal': 10000},\n",
              " '3002': {'esname': 'My friend', 'sal': 9670},\n",
              " '4003': {'ename': 'friend of friend', 'sal': 9843},\n",
              " '5004': {'ename': 'friends', 'sal': 8294},\n",
              " '6005': {'ename': 'ramesh', 'sal': 9375},\n",
              " '7006': {'ename': 'suresh', 'sal': 3658},\n",
              " '8007': {'ename': 'worker2', 'sal': 1648},\n",
              " '9008': {'ename': 'worker1', 'sal': 374}}"
            ]
          },
          "metadata": {},
          "execution_count": 26
        }
      ]
    },
    {
      "cell_type": "markdown",
      "metadata": {
        "id": "NXVzd5PTzuKo"
      },
      "source": [
        "**Total count of employees**"
      ]
    },
    {
      "cell_type": "code",
      "metadata": {
        "colab": {
          "base_uri": "https://localhost:8080/"
        },
        "id": "SkGbWJ4Uzr52",
        "outputId": "756e79cf-90cc-4f49-dec9-993f98c63150"
      },
      "source": [
        "count = 0\n",
        "for item in staff:\n",
        "  count = count + 1\n",
        "\n",
        "print('The total no of employees working are: '+ str(count))\n"
      ],
      "execution_count": 17,
      "outputs": [
        {
          "output_type": "stream",
          "name": "stdout",
          "text": [
            "The total no of employees working are: 12\n"
          ]
        }
      ]
    },
    {
      "cell_type": "markdown",
      "metadata": {
        "id": "flGb0Fwv0GuG"
      },
      "source": [
        "**Adding new employees to the list**"
      ]
    },
    {
      "cell_type": "code",
      "metadata": {
        "colab": {
          "base_uri": "https://localhost:8080/"
        },
        "id": "iaVj-JdC0F1X",
        "outputId": "5e505864-2f7e-4d7d-db22-0d6f0e5691ae"
      },
      "source": [
        "fd = open(\"/content/employees.json\",'r')\n",
        "r = fd.read()\n",
        "fd.close()\n",
        "staff = json.loads(r)\n",
        "\n",
        "\n",
        "e_id = str(input(\"Enter employee id:\"))\n",
        "if (e_id in staff.keys()):\n",
        "  print(\"employee already exists!!\")\n",
        "else:\n",
        "  print(\"Enter Remaining Details to add the employee\")\n",
        "  name = str(input(\"Enter name:\"))\n",
        "  sal = int(input(\"Enter salary:\"))\n",
        "  staff[e_id] = {'name': name, 'sal': sal}\n",
        "  js = json.dumps(staff)\n",
        "  fd = open(\"/content/employees.json\",'w')\n",
        "  fd.write(js)\n",
        "  fd.close()\n"
      ],
      "execution_count": 15,
      "outputs": [
        {
          "name": "stdout",
          "output_type": "stream",
          "text": [
            "Enter employee id:200\n",
            "Enter Remaining Details to add the employee\n",
            "Enter name:newone\n",
            "Enter salary:984\n"
          ]
        }
      ]
    },
    {
      "cell_type": "markdown",
      "metadata": {
        "id": "wR38VPEl1eOm"
      },
      "source": [
        "**Searching for employees**"
      ]
    },
    {
      "cell_type": "code",
      "metadata": {
        "colab": {
          "base_uri": "https://localhost:8080/"
        },
        "id": "2zcebf1T1dqI",
        "outputId": "c8049672-11b6-4852-cf5e-6c0cf693b187"
      },
      "source": [
        "e_id = str(input(\"Enter employee id to search:\"))\n",
        "\n",
        "if (e_id in staff.keys()):\n",
        "  print(\"Yes, the employee is working in our store\")\n",
        "else:\n",
        "  print(\"Sorry, there is no employee with the given ID\")"
      ],
      "execution_count": 20,
      "outputs": [
        {
          "output_type": "stream",
          "name": "stdout",
          "text": [
            "Enter employee id to search:2973\n",
            "Sorry, there is no employee with the given ID\n"
          ]
        }
      ]
    },
    {
      "cell_type": "markdown",
      "metadata": {
        "id": "ltYB-cqb2CZP"
      },
      "source": [
        "**Sum of all the employees salaries**"
      ]
    },
    {
      "cell_type": "code",
      "metadata": {
        "colab": {
          "base_uri": "https://localhost:8080/"
        },
        "id": "sl2bwlui2B9M",
        "outputId": "61b57994-d963-433e-e30d-c6fc7de6349b"
      },
      "source": [
        "sum = 0\n",
        "for emp in staff:\n",
        "  sum = sum + staff[emp]['sal']\n",
        "\n",
        "print('The total salary for all the employees is '+ str(sum)+'$')\n"
      ],
      "execution_count": 21,
      "outputs": [
        {
          "output_type": "stream",
          "name": "stdout",
          "text": [
            "The total salary for all the employees is 65177$\n"
          ]
        }
      ]
    },
    {
      "cell_type": "markdown",
      "metadata": {
        "id": "GITXyekh2XTW"
      },
      "source": [
        "**Deleting people from employees list**"
      ]
    },
    {
      "cell_type": "code",
      "metadata": {
        "colab": {
          "base_uri": "https://localhost:8080/"
        },
        "id": "Oc0Dw-NG2WrT",
        "outputId": "e13792da-e08a-4354-94ac-6c21853d50f7"
      },
      "source": [
        "# del staff['200']\n",
        "# or\n",
        "fd = open(\"/content/employees.json\",'r')\n",
        "r = fd.read()\n",
        "fd.close()\n",
        "staff = json.loads(r)\n",
        "\n",
        "e_id = input(\"Enter employee ID to delete from DataBase: \")\n",
        "if (e_id in staff.keys()):\n",
        "  del staff[e_id]\n",
        "  print(\"employee info deleted\")\n",
        "else:\n",
        "  print(\"no employee exists with given ID\")\n"
      ],
      "execution_count": 27,
      "outputs": [
        {
          "output_type": "stream",
          "name": "stdout",
          "text": [
            "Enter employee ID to delete from DataBase: 200\n",
            "employee info deleted\n"
          ]
        }
      ]
    }
  ]
}